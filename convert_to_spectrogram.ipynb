{
  "nbformat": 4,
  "nbformat_minor": 0,
  "metadata": {
    "colab": {
      "provenance": []
    },
    "kernelspec": {
      "name": "python3",
      "display_name": "Python 3"
    },
    "language_info": {
      "name": "python"
    }
  },
  "cells": [
    {
      "cell_type": "code",
      "execution_count": null,
      "metadata": {
        "colab": {
          "base_uri": "https://localhost:8080/"
        },
        "id": "5D-aI0Cz2--K",
        "outputId": "98417555-4b9f-45a4-af3f-f7c11fc86a96"
      },
      "outputs": [
        {
          "output_type": "stream",
          "name": "stdout",
          "text": [
            "Mounted at /content/drive\n"
          ]
        }
      ],
      "source": [
        "from google.colab import drive\n",
        "drive.mount(\"/content/drive\")"
      ]
    },
    {
      "cell_type": "code",
      "source": [
        "!unzip \"/content/drive/MyDrive/Colab Notebooks/audio_files/audio_dataset.zip\""
      ],
      "metadata": {
        "id": "dIh9dSX43bdI"
      },
      "execution_count": null,
      "outputs": []
    },
    {
      "cell_type": "code",
      "source": [
        "import torch\n",
        "import torchaudio\n",
        "import torchaudio.transforms as T\n",
        "import torch.nn.functional as F\n",
        "import numpy as np\n",
        "from PIL import Image\n",
        "import os"
      ],
      "metadata": {
        "id": "eDac5Sm84Amn"
      },
      "execution_count": null,
      "outputs": []
    },
    {
      "cell_type": "code",
      "source": [
        "sounds = ['car_horn', 'dog_barking', 'drilling', 'Fart', 'Guitar', 'Gunshot_and_gunfire', 'Hi-hat', 'Knock', 'Laughter','Shatter','siren','Snare_drum','Splash_and_splatter']"
      ],
      "metadata": {
        "id": "siywg1-K4aSd"
      },
      "execution_count": null,
      "outputs": []
    },
    {
      "cell_type": "code",
      "source": [
        "def create_imgs(f,save_path):\n",
        "    # for step in range(0, duration, 5):\n",
        "      wvfrm, sr = torchaudio.load(f)\n",
        "      # wvfrm = cut_wvfrm(wvfrm, sr, step)\n",
        "      spec = create_spec(wvfrm)\n",
        "      spec_resized = F.interpolate(spec.unsqueeze(0), size=(512, 512), mode='bicubic', align_corners=False).squeeze(0)\n",
        "\n",
        "      # print(\"Spectrogram shape:\", spec.shape)\n",
        "      # print(\"Spectrogram data type:\", spec.dtype)\n",
        "\n",
        "      spec_single_channel = torch.mean(spec, dim=0)\n",
        "      img = spec2img(spec_single_channel)\n",
        "\n",
        "      fileName=(f.split(\"/\")[-1]).split(\".\")[0]\n",
        "      save_path+=\"/\"\n",
        "      save_path+=fileName\n",
        "      save_path+=\".png\"\n",
        "      # print(save_path)\n",
        "      img.save(save_path)\n",
        "      # end_sec = step + 5\n",
        "      # img.save(f'/kaggle/train_images/{bird.stem}/{f.stem}_{end_sec}.png')\n",
        "\n",
        "# def cut_wvfrm(wvfrm, sr, step):\n",
        "#     start_sec, end_sec = step, step + 5\n",
        "#     return wvfrm[:, start_sec * sr: end_sec * sr]\n",
        "\n",
        "def create_spec(wvfrm):\n",
        "    spec = T.Spectrogram()(wvfrm)\n",
        "    return T.AmplitudeToDB()(spec)\n",
        "\n",
        "def spec2img(spec, img_size=(512, 512)):\n",
        "    spec = np.real(spec.squeeze().numpy())\n",
        "    spec = ((spec - spec.min()) / (spec.max() - spec.min()) * 255).astype('uint8')\n",
        "    return Image.fromarray(spec).resize(img_size)"
      ],
      "metadata": {
        "id": "THaCiYTyT6tM"
      },
      "execution_count": null,
      "outputs": []
    },
    {
      "cell_type": "code",
      "source": [
        "sounds = ['car_horn', 'dog_barking', 'drilling', 'Fart', 'Guitar', 'Gunshot_and_gunfire', 'Hi-hat', 'Knock', 'Laughter','Shatter','siren','Snare_drum','Splash_and_splatter']"
      ],
      "metadata": {
        "id": "v4hBH_wqXbAB"
      },
      "execution_count": null,
      "outputs": []
    },
    {
      "cell_type": "code",
      "source": [
        "for sound in sounds:\n",
        "  i=0\n",
        "  input_path=f\"/content/audio_dataset/train/{sound}\"\n",
        "  files=os.listdir(input_path)\n",
        "  output_path=f\"/content/spectrograms/train/{sound}\"\n",
        "\n",
        "  if not os.path.exists(output_path):\n",
        "    os.makedirs(output_path)\n",
        "\n",
        "  for file in files:\n",
        "    # print(file)\n",
        "    file_path=input_path+\"/\"+file\n",
        "    print(sound,i)\n",
        "    i+=1\n",
        "    create_imgs(file_path,output_path)\n"
      ],
      "metadata": {
        "id": "pCy24ShEXnje"
      },
      "execution_count": null,
      "outputs": []
    },
    {
      "cell_type": "code",
      "source": [
        "for sound in sounds:\n",
        "  i=0\n",
        "  input_path=f\"/content/audio_dataset/val/{sound}\"\n",
        "  files=os.listdir(input_path)\n",
        "  output_path=f\"/content/spectrograms/val/{sound}\"\n",
        "\n",
        "  if not os.path.exists(output_path):\n",
        "    os.makedirs(output_path)\n",
        "\n",
        "  for file in files:\n",
        "    # print(file)\n",
        "    file_path=input_path+\"/\"+file\n",
        "    print(sound,i)\n",
        "    i+=1\n",
        "    create_imgs(file_path,output_path)\n"
      ],
      "metadata": {
        "id": "UkGTQ9LEdLQb"
      },
      "execution_count": null,
      "outputs": []
    },
    {
      "cell_type": "code",
      "source": [
        "# !rm -rf \"/content/audio_dataset\"\n",
        "# !rm -rf \"/content/spectrograms/train\"\n",
        "# !mkdir \"/content/spectrograms/train\""
      ],
      "metadata": {
        "id": "E5MKfvqiT6wE"
      },
      "execution_count": null,
      "outputs": []
    },
    {
      "cell_type": "code",
      "source": [
        "# !zip -r \"/content/spectrograms.zip\" \"/content/spectrograms\""
      ],
      "metadata": {
        "id": "KJvCktd4eaNi"
      },
      "execution_count": null,
      "outputs": []
    },
    {
      "cell_type": "code",
      "source": [],
      "metadata": {
        "id": "VLlzN5o6fHoy"
      },
      "execution_count": null,
      "outputs": []
    }
  ]
}